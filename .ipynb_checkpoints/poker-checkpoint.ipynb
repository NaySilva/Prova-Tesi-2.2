{
 "cells": [
  {
   "cell_type": "code",
   "execution_count": 1,
   "metadata": {
    "collapsed": true
   },
   "outputs": [],
   "source": [
    "import pandas as pd"
   ]
  },
  {
   "cell_type": "code",
   "execution_count": 2,
   "metadata": {
    "collapsed": true
   },
   "outputs": [],
   "source": [
    "train = pd.read_csv('train.csv')"
   ]
  },
  {
   "cell_type": "code",
   "execution_count": 3,
   "metadata": {
    "collapsed": true
   },
   "outputs": [],
   "source": [
    "test = pd.read_csv('test.csv')"
   ]
  },
  {
   "cell_type": "code",
   "execution_count": 4,
   "metadata": {},
   "outputs": [
    {
     "name": "stdout",
     "output_type": "stream",
     "text": [
      "<class 'pandas.core.frame.DataFrame'>\n",
      "RangeIndex: 25010 entries, 0 to 25009\n",
      "Data columns (total 11 columns):\n",
      "N1            25010 non-null int64\n",
      "V1            25010 non-null int64\n",
      "N2            25010 non-null int64\n",
      "V2            25010 non-null int64\n",
      "N3            25010 non-null int64\n",
      "V3            25010 non-null int64\n",
      "N4            25010 non-null int64\n",
      "V4            25010 non-null int64\n",
      "N5            25010 non-null int64\n",
      "V5            25010 non-null int64\n",
      "poker_hand    25010 non-null int64\n",
      "dtypes: int64(11)\n",
      "memory usage: 2.1 MB\n"
     ]
    }
   ],
   "source": [
    "train.info()"
   ]
  },
  {
   "cell_type": "code",
   "execution_count": 5,
   "metadata": {},
   "outputs": [
    {
     "data": {
      "text/plain": [
       "N1            int64\n",
       "V1            int64\n",
       "N2            int64\n",
       "V2            int64\n",
       "N3            int64\n",
       "V3            int64\n",
       "N4            int64\n",
       "V4            int64\n",
       "N5            int64\n",
       "V5            int64\n",
       "poker_hand    int64\n",
       "dtype: object"
      ]
     },
     "execution_count": 5,
     "metadata": {},
     "output_type": "execute_result"
    }
   ],
   "source": [
    "test.dtypes"
   ]
  },
  {
   "cell_type": "code",
   "execution_count": 6,
   "metadata": {},
   "outputs": [
    {
     "name": "stdout",
     "output_type": "stream",
     "text": [
      "N1 NaN: 0\n",
      "V1 NaN: 0\n",
      "N2 NaN: 0\n",
      "V2 NaN: 0\n",
      "N3 NaN: 0\n",
      "V3 NaN: 0\n",
      "N4 NaN: 0\n",
      "V4 NaN: 0\n",
      "N5 NaN: 0\n",
      "V5 NaN: 0\n",
      "poker_hand NaN: 0\n"
     ]
    }
   ],
   "source": [
    "for field in train.columns:\n",
    "    print(field, 'NaN:', train[field].isnull().sum())"
   ]
  },
  {
   "cell_type": "code",
   "execution_count": 7,
   "metadata": {},
   "outputs": [
    {
     "name": "stdout",
     "output_type": "stream",
     "text": [
      "N1 NaN: 0\n",
      "V1 NaN: 0\n",
      "N2 NaN: 0\n",
      "V2 NaN: 0\n",
      "N3 NaN: 0\n",
      "V3 NaN: 0\n",
      "N4 NaN: 0\n",
      "V4 NaN: 0\n",
      "N5 NaN: 0\n",
      "V5 NaN: 0\n",
      "poker_hand NaN: 0\n"
     ]
    }
   ],
   "source": [
    "for field in test.columns:\n",
    "    print(field, 'NaN:', test[field].isnull().sum())"
   ]
  },
  {
   "cell_type": "code",
   "execution_count": 8,
   "metadata": {
    "collapsed": true
   },
   "outputs": [],
   "source": [
    "for dataset in [train, test]:\n",
    "    bins = [-1,1,4,7,9]\n",
    "    names = ['ruim','média','boa','ótima']\n",
    "    dataset['jogada'] = pd.cut(dataset.poker_hand, bins, labels=names)\n",
    "    dataset['jogada'] = dataset.jogada.astype('object')"
   ]
  },
  {
   "cell_type": "code",
   "execution_count": 9,
   "metadata": {},
   "outputs": [
    {
     "data": {
      "text/html": [
       "<div>\n",
       "<style>\n",
       "    .dataframe thead tr:only-child th {\n",
       "        text-align: right;\n",
       "    }\n",
       "\n",
       "    .dataframe thead th {\n",
       "        text-align: left;\n",
       "    }\n",
       "\n",
       "    .dataframe tbody tr th {\n",
       "        vertical-align: top;\n",
       "    }\n",
       "</style>\n",
       "<table border=\"1\" class=\"dataframe\">\n",
       "  <thead>\n",
       "    <tr style=\"text-align: right;\">\n",
       "      <th></th>\n",
       "      <th>N1</th>\n",
       "      <th>V1</th>\n",
       "      <th>N2</th>\n",
       "      <th>V2</th>\n",
       "      <th>N3</th>\n",
       "      <th>V3</th>\n",
       "      <th>N4</th>\n",
       "      <th>V4</th>\n",
       "      <th>N5</th>\n",
       "      <th>V5</th>\n",
       "      <th>poker_hand</th>\n",
       "      <th>jogada</th>\n",
       "    </tr>\n",
       "  </thead>\n",
       "  <tbody>\n",
       "    <tr>\n",
       "      <th>0</th>\n",
       "      <td>1</td>\n",
       "      <td>10</td>\n",
       "      <td>1</td>\n",
       "      <td>11</td>\n",
       "      <td>1</td>\n",
       "      <td>13</td>\n",
       "      <td>1</td>\n",
       "      <td>12</td>\n",
       "      <td>1</td>\n",
       "      <td>1</td>\n",
       "      <td>9</td>\n",
       "      <td>ótima</td>\n",
       "    </tr>\n",
       "    <tr>\n",
       "      <th>1</th>\n",
       "      <td>2</td>\n",
       "      <td>11</td>\n",
       "      <td>2</td>\n",
       "      <td>13</td>\n",
       "      <td>2</td>\n",
       "      <td>10</td>\n",
       "      <td>2</td>\n",
       "      <td>12</td>\n",
       "      <td>2</td>\n",
       "      <td>1</td>\n",
       "      <td>9</td>\n",
       "      <td>ótima</td>\n",
       "    </tr>\n",
       "    <tr>\n",
       "      <th>2</th>\n",
       "      <td>3</td>\n",
       "      <td>12</td>\n",
       "      <td>3</td>\n",
       "      <td>11</td>\n",
       "      <td>3</td>\n",
       "      <td>13</td>\n",
       "      <td>3</td>\n",
       "      <td>10</td>\n",
       "      <td>3</td>\n",
       "      <td>1</td>\n",
       "      <td>9</td>\n",
       "      <td>ótima</td>\n",
       "    </tr>\n",
       "    <tr>\n",
       "      <th>3</th>\n",
       "      <td>4</td>\n",
       "      <td>10</td>\n",
       "      <td>4</td>\n",
       "      <td>11</td>\n",
       "      <td>4</td>\n",
       "      <td>1</td>\n",
       "      <td>4</td>\n",
       "      <td>13</td>\n",
       "      <td>4</td>\n",
       "      <td>12</td>\n",
       "      <td>9</td>\n",
       "      <td>ótima</td>\n",
       "    </tr>\n",
       "    <tr>\n",
       "      <th>4</th>\n",
       "      <td>4</td>\n",
       "      <td>1</td>\n",
       "      <td>4</td>\n",
       "      <td>13</td>\n",
       "      <td>4</td>\n",
       "      <td>12</td>\n",
       "      <td>4</td>\n",
       "      <td>11</td>\n",
       "      <td>4</td>\n",
       "      <td>10</td>\n",
       "      <td>9</td>\n",
       "      <td>ótima</td>\n",
       "    </tr>\n",
       "  </tbody>\n",
       "</table>\n",
       "</div>"
      ],
      "text/plain": [
       "   N1  V1  N2  V2  N3  V3  N4  V4  N5  V5  poker_hand jogada\n",
       "0   1  10   1  11   1  13   1  12   1   1           9  ótima\n",
       "1   2  11   2  13   2  10   2  12   2   1           9  ótima\n",
       "2   3  12   3  11   3  13   3  10   3   1           9  ótima\n",
       "3   4  10   4  11   4   1   4  13   4  12           9  ótima\n",
       "4   4   1   4  13   4  12   4  11   4  10           9  ótima"
      ]
     },
     "execution_count": 9,
     "metadata": {},
     "output_type": "execute_result"
    }
   ],
   "source": [
    "train.head()"
   ]
  },
  {
   "cell_type": "code",
   "execution_count": 10,
   "metadata": {
    "collapsed": true
   },
   "outputs": [],
   "source": [
    "import matplotlib.pyplot as plt"
   ]
  },
  {
   "cell_type": "code",
   "execution_count": 37,
   "metadata": {
    "collapsed": true
   },
   "outputs": [],
   "source": [
    "import seaborn as sns"
   ]
  },
  {
   "cell_type": "code",
   "execution_count": 38,
   "metadata": {
    "collapsed": true
   },
   "outputs": [],
   "source": [
    "sns.set() "
   ]
  },
  {
   "cell_type": "code",
   "execution_count": 39,
   "metadata": {
    "collapsed": true
   },
   "outputs": [],
   "source": [
    "%matplotlib inline"
   ]
  },
  {
   "cell_type": "code",
   "execution_count": 40,
   "metadata": {},
   "outputs": [
    {
     "name": "stdout",
     "output_type": "stream",
     "text": [
      "<class 'pandas.core.frame.DataFrame'>\n",
      "RangeIndex: 1000000 entries, 0 to 999999\n",
      "Data columns (total 12 columns):\n",
      "N1            1000000 non-null int64\n",
      "V1            1000000 non-null int64\n",
      "N2            1000000 non-null int64\n",
      "V2            1000000 non-null int64\n",
      "N3            1000000 non-null int64\n",
      "V3            1000000 non-null int64\n",
      "N4            1000000 non-null int64\n",
      "V4            1000000 non-null int64\n",
      "N5            1000000 non-null int64\n",
      "V5            1000000 non-null int64\n",
      "poker_hand    1000000 non-null int64\n",
      "jogada        1000000 non-null object\n",
      "dtypes: int64(11), object(1)\n",
      "memory usage: 91.6+ MB\n"
     ]
    }
   ],
   "source": [
    "test.info()"
   ]
  },
  {
   "cell_type": "code",
   "execution_count": 41,
   "metadata": {
    "collapsed": true
   },
   "outputs": [],
   "source": [
    "train = train.drop(['poker_hand'], axis=1)"
   ]
  },
  {
   "cell_type": "code",
   "execution_count": 42,
   "metadata": {},
   "outputs": [
    {
     "data": {
      "text/html": [
       "<div>\n",
       "<style>\n",
       "    .dataframe thead tr:only-child th {\n",
       "        text-align: right;\n",
       "    }\n",
       "\n",
       "    .dataframe thead th {\n",
       "        text-align: left;\n",
       "    }\n",
       "\n",
       "    .dataframe tbody tr th {\n",
       "        vertical-align: top;\n",
       "    }\n",
       "</style>\n",
       "<table border=\"1\" class=\"dataframe\">\n",
       "  <thead>\n",
       "    <tr style=\"text-align: right;\">\n",
       "      <th></th>\n",
       "      <th>N1</th>\n",
       "      <th>V1</th>\n",
       "      <th>N2</th>\n",
       "      <th>V2</th>\n",
       "      <th>N3</th>\n",
       "      <th>V3</th>\n",
       "      <th>N4</th>\n",
       "      <th>V4</th>\n",
       "      <th>N5</th>\n",
       "      <th>V5</th>\n",
       "      <th>jogada</th>\n",
       "    </tr>\n",
       "  </thead>\n",
       "  <tbody>\n",
       "    <tr>\n",
       "      <th>0</th>\n",
       "      <td>1</td>\n",
       "      <td>10</td>\n",
       "      <td>1</td>\n",
       "      <td>11</td>\n",
       "      <td>1</td>\n",
       "      <td>13</td>\n",
       "      <td>1</td>\n",
       "      <td>12</td>\n",
       "      <td>1</td>\n",
       "      <td>1</td>\n",
       "      <td>ótima</td>\n",
       "    </tr>\n",
       "    <tr>\n",
       "      <th>1</th>\n",
       "      <td>2</td>\n",
       "      <td>11</td>\n",
       "      <td>2</td>\n",
       "      <td>13</td>\n",
       "      <td>2</td>\n",
       "      <td>10</td>\n",
       "      <td>2</td>\n",
       "      <td>12</td>\n",
       "      <td>2</td>\n",
       "      <td>1</td>\n",
       "      <td>ótima</td>\n",
       "    </tr>\n",
       "    <tr>\n",
       "      <th>2</th>\n",
       "      <td>3</td>\n",
       "      <td>12</td>\n",
       "      <td>3</td>\n",
       "      <td>11</td>\n",
       "      <td>3</td>\n",
       "      <td>13</td>\n",
       "      <td>3</td>\n",
       "      <td>10</td>\n",
       "      <td>3</td>\n",
       "      <td>1</td>\n",
       "      <td>ótima</td>\n",
       "    </tr>\n",
       "    <tr>\n",
       "      <th>3</th>\n",
       "      <td>4</td>\n",
       "      <td>10</td>\n",
       "      <td>4</td>\n",
       "      <td>11</td>\n",
       "      <td>4</td>\n",
       "      <td>1</td>\n",
       "      <td>4</td>\n",
       "      <td>13</td>\n",
       "      <td>4</td>\n",
       "      <td>12</td>\n",
       "      <td>ótima</td>\n",
       "    </tr>\n",
       "    <tr>\n",
       "      <th>4</th>\n",
       "      <td>4</td>\n",
       "      <td>1</td>\n",
       "      <td>4</td>\n",
       "      <td>13</td>\n",
       "      <td>4</td>\n",
       "      <td>12</td>\n",
       "      <td>4</td>\n",
       "      <td>11</td>\n",
       "      <td>4</td>\n",
       "      <td>10</td>\n",
       "      <td>ótima</td>\n",
       "    </tr>\n",
       "  </tbody>\n",
       "</table>\n",
       "</div>"
      ],
      "text/plain": [
       "   N1  V1  N2  V2  N3  V3  N4  V4  N5  V5 jogada\n",
       "0   1  10   1  11   1  13   1  12   1   1  ótima\n",
       "1   2  11   2  13   2  10   2  12   2   1  ótima\n",
       "2   3  12   3  11   3  13   3  10   3   1  ótima\n",
       "3   4  10   4  11   4   1   4  13   4  12  ótima\n",
       "4   4   1   4  13   4  12   4  11   4  10  ótima"
      ]
     },
     "execution_count": 42,
     "metadata": {},
     "output_type": "execute_result"
    }
   ],
   "source": [
    "train.head()"
   ]
  },
  {
   "cell_type": "code",
   "execution_count": 43,
   "metadata": {
    "collapsed": true
   },
   "outputs": [],
   "source": [
    "test = test.drop(['poker_hand'], axis=1)"
   ]
  },
  {
   "cell_type": "code",
   "execution_count": 44,
   "metadata": {},
   "outputs": [
    {
     "data": {
      "text/html": [
       "<div>\n",
       "<style>\n",
       "    .dataframe thead tr:only-child th {\n",
       "        text-align: right;\n",
       "    }\n",
       "\n",
       "    .dataframe thead th {\n",
       "        text-align: left;\n",
       "    }\n",
       "\n",
       "    .dataframe tbody tr th {\n",
       "        vertical-align: top;\n",
       "    }\n",
       "</style>\n",
       "<table border=\"1\" class=\"dataframe\">\n",
       "  <thead>\n",
       "    <tr style=\"text-align: right;\">\n",
       "      <th></th>\n",
       "      <th>N1</th>\n",
       "      <th>V1</th>\n",
       "      <th>N2</th>\n",
       "      <th>V2</th>\n",
       "      <th>N3</th>\n",
       "      <th>V3</th>\n",
       "      <th>N4</th>\n",
       "      <th>V4</th>\n",
       "      <th>N5</th>\n",
       "      <th>V5</th>\n",
       "      <th>jogada</th>\n",
       "    </tr>\n",
       "  </thead>\n",
       "  <tbody>\n",
       "    <tr>\n",
       "      <th>0</th>\n",
       "      <td>1</td>\n",
       "      <td>1</td>\n",
       "      <td>1</td>\n",
       "      <td>13</td>\n",
       "      <td>2</td>\n",
       "      <td>4</td>\n",
       "      <td>2</td>\n",
       "      <td>3</td>\n",
       "      <td>1</td>\n",
       "      <td>12</td>\n",
       "      <td>ruim</td>\n",
       "    </tr>\n",
       "    <tr>\n",
       "      <th>1</th>\n",
       "      <td>3</td>\n",
       "      <td>12</td>\n",
       "      <td>3</td>\n",
       "      <td>2</td>\n",
       "      <td>3</td>\n",
       "      <td>11</td>\n",
       "      <td>4</td>\n",
       "      <td>5</td>\n",
       "      <td>2</td>\n",
       "      <td>5</td>\n",
       "      <td>ruim</td>\n",
       "    </tr>\n",
       "    <tr>\n",
       "      <th>2</th>\n",
       "      <td>1</td>\n",
       "      <td>9</td>\n",
       "      <td>4</td>\n",
       "      <td>6</td>\n",
       "      <td>1</td>\n",
       "      <td>4</td>\n",
       "      <td>3</td>\n",
       "      <td>2</td>\n",
       "      <td>3</td>\n",
       "      <td>9</td>\n",
       "      <td>ruim</td>\n",
       "    </tr>\n",
       "    <tr>\n",
       "      <th>3</th>\n",
       "      <td>1</td>\n",
       "      <td>4</td>\n",
       "      <td>3</td>\n",
       "      <td>13</td>\n",
       "      <td>2</td>\n",
       "      <td>13</td>\n",
       "      <td>2</td>\n",
       "      <td>1</td>\n",
       "      <td>3</td>\n",
       "      <td>6</td>\n",
       "      <td>ruim</td>\n",
       "    </tr>\n",
       "    <tr>\n",
       "      <th>4</th>\n",
       "      <td>3</td>\n",
       "      <td>10</td>\n",
       "      <td>2</td>\n",
       "      <td>7</td>\n",
       "      <td>1</td>\n",
       "      <td>2</td>\n",
       "      <td>2</td>\n",
       "      <td>11</td>\n",
       "      <td>4</td>\n",
       "      <td>9</td>\n",
       "      <td>ruim</td>\n",
       "    </tr>\n",
       "  </tbody>\n",
       "</table>\n",
       "</div>"
      ],
      "text/plain": [
       "   N1  V1  N2  V2  N3  V3  N4  V4  N5  V5 jogada\n",
       "0   1   1   1  13   2   4   2   3   1  12   ruim\n",
       "1   3  12   3   2   3  11   4   5   2   5   ruim\n",
       "2   1   9   4   6   1   4   3   2   3   9   ruim\n",
       "3   1   4   3  13   2  13   2   1   3   6   ruim\n",
       "4   3  10   2   7   1   2   2  11   4   9   ruim"
      ]
     },
     "execution_count": 44,
     "metadata": {},
     "output_type": "execute_result"
    }
   ],
   "source": [
    "test.head()"
   ]
  },
  {
   "cell_type": "code",
   "execution_count": 45,
   "metadata": {},
   "outputs": [
    {
     "data": {
      "text/plain": [
       "<matplotlib.axes._subplots.AxesSubplot at 0x7f85fae78c18>"
      ]
     },
     "execution_count": 45,
     "metadata": {},
     "output_type": "execute_result"
    },
    {
     "data": {
      "image/png": "[encoded data removed]",
      "text/plain": [
       "<matplotlib.figure.Figure at 0x7f85fae696d8>"
      ]
     },
     "metadata": {},
     "output_type": "display_data"
    }
   ],
   "source": [
    "sns.countplot(x='jogada', data=train)"
   ]
  },
  {
   "cell_type": "code",
   "execution_count": 46,
   "metadata": {},
   "outputs": [
    {
     "data": {
      "text/plain": [
       "<matplotlib.axes._subplots.AxesSubplot at 0x7f85fae7ee80>"
      ]
     },
     "execution_count": 46,
     "metadata": {},
     "output_type": "execute_result"
    },
    {
     "data": {
      "image/png": "[encoded data removed]",
      "text/plain": [
       "<matplotlib.figure.Figure at 0x7f85fae84208>"
      ]
     },
     "metadata": {},
     "output_type": "display_data"
    }
   ],
   "source": [
    "sns.countplot(x='jogada', data=test)"
   ]
  },
  {
   "cell_type": "code",
   "execution_count": 48,
   "metadata": {
    "collapsed": true
   },
   "outputs": [],
   "source": [
    "jogadas = {'ruim': 0, 'média': 1, 'boa': 2, 'ótima': 3}"
   ]
  },
  {
   "cell_type": "code",
   "execution_count": 50,
   "metadata": {
    "collapsed": true
   },
   "outputs": [],
   "source": [
    "for dataset in [train, test]:\n",
    "    dataset['jogada'] = dataset['jogada'].map(jogadas).astype(int)"
   ]
  },
  {
   "cell_type": "code",
   "execution_count": 51,
   "metadata": {},
   "outputs": [
    {
     "data": {
      "text/html": [
       "<div>\n",
       "<style>\n",
       "    .dataframe thead tr:only-child th {\n",
       "        text-align: right;\n",
       "    }\n",
       "\n",
       "    .dataframe thead th {\n",
       "        text-align: left;\n",
       "    }\n",
       "\n",
       "    .dataframe tbody tr th {\n",
       "        vertical-align: top;\n",
       "    }\n",
       "</style>\n",
       "<table border=\"1\" class=\"dataframe\">\n",
       "  <thead>\n",
       "    <tr style=\"text-align: right;\">\n",
       "      <th></th>\n",
       "      <th>N1</th>\n",
       "      <th>V1</th>\n",
       "      <th>N2</th>\n",
       "      <th>V2</th>\n",
       "      <th>N3</th>\n",
       "      <th>V3</th>\n",
       "      <th>N4</th>\n",
       "      <th>V4</th>\n",
       "      <th>N5</th>\n",
       "      <th>V5</th>\n",
       "      <th>jogada</th>\n",
       "    </tr>\n",
       "  </thead>\n",
       "  <tbody>\n",
       "    <tr>\n",
       "      <th>0</th>\n",
       "      <td>1</td>\n",
       "      <td>10</td>\n",
       "      <td>1</td>\n",
       "      <td>11</td>\n",
       "      <td>1</td>\n",
       "      <td>13</td>\n",
       "      <td>1</td>\n",
       "      <td>12</td>\n",
       "      <td>1</td>\n",
       "      <td>1</td>\n",
       "      <td>3</td>\n",
       "    </tr>\n",
       "    <tr>\n",
       "      <th>1</th>\n",
       "      <td>2</td>\n",
       "      <td>11</td>\n",
       "      <td>2</td>\n",
       "      <td>13</td>\n",
       "      <td>2</td>\n",
       "      <td>10</td>\n",
       "      <td>2</td>\n",
       "      <td>12</td>\n",
       "      <td>2</td>\n",
       "      <td>1</td>\n",
       "      <td>3</td>\n",
       "    </tr>\n",
       "    <tr>\n",
       "      <th>2</th>\n",
       "      <td>3</td>\n",
       "      <td>12</td>\n",
       "      <td>3</td>\n",
       "      <td>11</td>\n",
       "      <td>3</td>\n",
       "      <td>13</td>\n",
       "      <td>3</td>\n",
       "      <td>10</td>\n",
       "      <td>3</td>\n",
       "      <td>1</td>\n",
       "      <td>3</td>\n",
       "    </tr>\n",
       "    <tr>\n",
       "      <th>3</th>\n",
       "      <td>4</td>\n",
       "      <td>10</td>\n",
       "      <td>4</td>\n",
       "      <td>11</td>\n",
       "      <td>4</td>\n",
       "      <td>1</td>\n",
       "      <td>4</td>\n",
       "      <td>13</td>\n",
       "      <td>4</td>\n",
       "      <td>12</td>\n",
       "      <td>3</td>\n",
       "    </tr>\n",
       "    <tr>\n",
       "      <th>4</th>\n",
       "      <td>4</td>\n",
       "      <td>1</td>\n",
       "      <td>4</td>\n",
       "      <td>13</td>\n",
       "      <td>4</td>\n",
       "      <td>12</td>\n",
       "      <td>4</td>\n",
       "      <td>11</td>\n",
       "      <td>4</td>\n",
       "      <td>10</td>\n",
       "      <td>3</td>\n",
       "    </tr>\n",
       "  </tbody>\n",
       "</table>\n",
       "</div>"
      ],
      "text/plain": [
       "   N1  V1  N2  V2  N3  V3  N4  V4  N5  V5  jogada\n",
       "0   1  10   1  11   1  13   1  12   1   1       3\n",
       "1   2  11   2  13   2  10   2  12   2   1       3\n",
       "2   3  12   3  11   3  13   3  10   3   1       3\n",
       "3   4  10   4  11   4   1   4  13   4  12       3\n",
       "4   4   1   4  13   4  12   4  11   4  10       3"
      ]
     },
     "execution_count": 51,
     "metadata": {},
     "output_type": "execute_result"
    }
   ],
   "source": [
    "train.head()"
   ]
  },
  {
   "cell_type": "code",
   "execution_count": 52,
   "metadata": {
    "collapsed": true
   },
   "outputs": [],
   "source": [
    "x_df = train[['N1', 'V1', 'N2', 'V2', 'N3', 'V3', 'N4', 'V4', 'N5', 'V5']]"
   ]
  },
  {
   "cell_type": "code",
   "execution_count": 53,
   "metadata": {
    "collapsed": true
   },
   "outputs": [],
   "source": [
    "y_df = train['jogada']"
   ]
  },
  {
   "cell_type": "code",
   "execution_count": 54,
   "metadata": {
    "collapsed": true
   },
   "outputs": [],
   "source": [
    "Xdummies_df = pd.get_dummies(x_df)"
   ]
  },
  {
   "cell_type": "code",
   "execution_count": 55,
   "metadata": {
    "collapsed": true
   },
   "outputs": [],
   "source": [
    "X = Xdummies_df.values\n",
    "Y = y_df.values"
   ]
  },
  {
   "cell_type": "code",
   "execution_count": 56,
   "metadata": {
    "collapsed": true
   },
   "outputs": [],
   "source": [
    "treino_dados = X\n",
    "treino_marcacoes = Y"
   ]
  },
  {
   "cell_type": "code",
   "execution_count": 57,
   "metadata": {
    "collapsed": true
   },
   "outputs": [],
   "source": [
    "x_df = test[['N1', 'V1', 'N2', 'V2', 'N3', 'V3', 'N4', 'V4', 'N5', 'V5']]"
   ]
  },
  {
   "cell_type": "code",
   "execution_count": 58,
   "metadata": {
    "collapsed": true
   },
   "outputs": [],
   "source": [
    "y_df = test['jogada']"
   ]
  },
  {
   "cell_type": "code",
   "execution_count": 59,
   "metadata": {
    "collapsed": true
   },
   "outputs": [],
   "source": [
    "Xdummies_df = pd.get_dummies(x_df)"
   ]
  },
  {
   "cell_type": "code",
   "execution_count": 60,
   "metadata": {
    "collapsed": true
   },
   "outputs": [],
   "source": [
    "X = Xdummies_df.values\n",
    "Y = y_df.values"
   ]
  },
  {
   "cell_type": "code",
   "execution_count": 61,
   "metadata": {
    "collapsed": true
   },
   "outputs": [],
   "source": [
    "teste_dados = X\n",
    "teste_marcacoes = Y"
   ]
  },
  {
   "cell_type": "code",
   "execution_count": 62,
   "metadata": {
    "collapsed": true
   },
   "outputs": [],
   "source": [
    "def fit_and_predict(nome, modelo, treino_dados, treino_marcacoes, teste_dados, teste_marcacoes):\n",
    "    modelo.fit(treino_dados, treino_marcacoes)\n",
    "    resultado = modelo.predict(teste_dados)\n",
    "\n",
    "    acertos = 0\n",
    "    tamanho = len(teste_marcacoes)\n",
    "    for i in range(tamanho):\n",
    "        if teste_marcacoes[i] == resultado[i]:\n",
    "            acertos+=1\n",
    "    print('Acertos %s: %.2f%%' % (nome, (acertos*100/tamanho)))"
   ]
  },
  {
   "cell_type": "code",
   "execution_count": 64,
   "metadata": {
    "collapsed": true
   },
   "outputs": [],
   "source": [
    "from sklearn.multiclass import OneVsRestClassifier\n",
    "from sklearn.multiclass import OneVsOneClassifier\n",
    "from sklearn.svm import LinearSVC\n",
    "from sklearn.ensemble import RandomForestClassifier, AdaBoostClassifier\n",
    "from sklearn.tree import DecisionTreeClassifier\n",
    "from sklearn.naive_bayes import MultinomialNB\n",
    "\n"
   ]
  },
  {
   "cell_type": "code",
   "execution_count": 65,
   "metadata": {},
   "outputs": [
    {
     "name": "stdout",
     "output_type": "stream",
     "text": [
      "Acertos OneVsRest: 92.37%\n",
      "Acertos OneVsOne: 92.37%\n",
      "Acertos RandomForest: 92.34%\n",
      "Acertos DecisionTree: 86.05%\n",
      "Acertos MultinomialNB: 92.37%\n",
      "Acertos AdaBoostClassifier: 92.34%\n"
     ]
    }
   ],
   "source": [
    "modeloOneVsRest = OneVsRestClassifier(LinearSVC(random_state=0))\n",
    "fit_and_predict('OneVsRest', modeloOneVsRest, treino_dados, treino_marcacoes, teste_dados, teste_marcacoes)\n",
    "\n",
    "modeloOneVsOne = OneVsOneClassifier(LinearSVC(random_state=0))\n",
    "fit_and_predict('OneVsOne', modeloOneVsOne, treino_dados, treino_marcacoes, teste_dados, teste_marcacoes)\n",
    "\n",
    "modeloRandomForest = RandomForestClassifier()\n",
    "fit_and_predict('RandomForest', modeloRandomForest, treino_dados, treino_marcacoes, teste_dados, teste_marcacoes)\n",
    "\n",
    "modeloDecisionTree = DecisionTreeClassifier(random_state=0)\n",
    "fit_and_predict('DecisionTree', modeloDecisionTree, treino_dados, treino_marcacoes, teste_dados, teste_marcacoes)\n",
    "\n",
    "modeloMultinomial = MultinomialNB()\n",
    "fit_and_predict('MultinomialNB', modeloMultinomial, treino_dados, treino_marcacoes, teste_dados, teste_marcacoes)\n",
    "\n",
    "modeloAdaBoost = AdaBoostClassifier()\n",
    "fit_and_predict('AdaBoostClassifier', modeloAdaBoost, treino_dados, treino_marcacoes, teste_dados, teste_marcacoes)"
   ]
  },
  {
   "cell_type": "code",
   "execution_count": 66,
   "metadata": {
    "collapsed": true
   },
   "outputs": [],
   "source": [
    "from sklearn.model_selection import cross_val_score\n",
    "import numpy as np"
   ]
  },
  {
   "cell_type": "code",
   "execution_count": 67,
   "metadata": {
    "collapsed": true
   },
   "outputs": [],
   "source": [
    "def fit_and_predict_k(nome, modelo, treino_dados, treino_marcacoes, teste_dados, teste_marcacoes, k):\n",
    "    scores = cross_val_score(modelo, treino_dados, treino_marcacoes, cv=k)\n",
    "\n",
    "    acertos = np.mean(scores)\n",
    "    print('Acertos %s: %.2f%%' % (nome, (acertos*100)))"
   ]
  },
  {
   "cell_type": "code",
   "execution_count": 68,
   "metadata": {},
   "outputs": [
    {
     "name": "stdout",
     "output_type": "stream",
     "text": [
      "Acertos OneVsRest: 92.33%\n",
      "Acertos OneVsOne: 92.33%\n",
      "Acertos RandomForest: 92.32%\n",
      "Acertos DecisionTree: 85.67%\n",
      "Acertos MultinomialNB: 92.33%\n",
      "Acertos AdaBoostClassifier: 86.02%\n"
     ]
    }
   ],
   "source": [
    "k=4\n",
    "modeloOneVsRest = OneVsRestClassifier(LinearSVC(random_state=0))\n",
    "fit_and_predict_k('OneVsRest', modeloOneVsRest, treino_dados, treino_marcacoes, teste_dados, teste_marcacoes, k)\n",
    "\n",
    "modeloOneVsOne = OneVsOneClassifier(LinearSVC(random_state=0))\n",
    "fit_and_predict_k('OneVsOne', modeloOneVsOne, treino_dados, treino_marcacoes, teste_dados, teste_marcacoes, k)\n",
    "\n",
    "modeloRandomForest = RandomForestClassifier()\n",
    "fit_and_predict_k('RandomForest', modeloRandomForest, treino_dados, treino_marcacoes, teste_dados, teste_marcacoes, k)\n",
    "\n",
    "modeloDecisionTree = DecisionTreeClassifier(random_state=0)\n",
    "fit_and_predict_k('DecisionTree', modeloDecisionTree, treino_dados, treino_marcacoes, teste_dados, teste_marcacoes, k)\n",
    "\n",
    "fit_and_predict_k('MultinomialNB', modeloMultinomial, treino_dados, treino_marcacoes, teste_dados, teste_marcacoes, k)\n",
    "\n",
    "fit_and_predict_k('AdaBoostClassifier', modeloAdaBoost, treino_dados, treino_marcacoes, teste_dados, teste_marcacoes, k)\n"
   ]
  },
  {
   "cell_type": "code",
   "execution_count": null,
   "metadata": {
    "collapsed": true
   },
   "outputs": [],
   "source": [
    "names = ['N1', 'V1', 'N2', 'V2', 'N3', 'V3', 'N4', 'V4', 'N5', 'V5','nivel','jogada']"
   ]
  }
 ],
 "metadata": {
  "kernelspec": {
   "display_name": "Python 3",
   "language": "python",
   "name": "python3"
  },
  "language_info": {
   "codemirror_mode": {
    "name": "ipython",
    "version": 3
   },
   "file_extension": ".py",
   "mimetype": "text/x-python",
   "name": "python",
   "nbconvert_exporter": "python",
   "pygments_lexer": "ipython3",
   "version": "3.5.2"
  }
 },
 "nbformat": 4,
 "nbformat_minor": 2
}
